{
 "cells": [
  {
   "cell_type": "markdown",
   "metadata": {},
   "source": [
    "# This Jupyter notebook to load the datasett and create the model"
   ]
  },
  {
   "cell_type": "code",
   "execution_count": 39,
   "metadata": {},
   "outputs": [],
   "source": [
    "import pickle\n",
    "from keras.models import Sequential\n",
    "from keras.layers import Conv2D, MaxPooling2D, Flatten, Dense"
   ]
  },
  {
   "cell_type": "markdown",
   "metadata": {},
   "source": [
    "Import the data \"pictures\" and 'Labels'"
   ]
  },
  {
   "cell_type": "code",
   "execution_count": 40,
   "metadata": {},
   "outputs": [],
   "source": [
    "pictures = pickle.load(open('images.pkl','rb'))\n",
    "labels = pickle.load(open('labels.pkl','rb'))"
   ]
  },
  {
   "cell_type": "markdown",
   "metadata": {},
   "source": [
    "To improve the calcuations speed we divide the data by the highest number since from 0 to 255\n"
   ]
  },
  {
   "cell_type": "code",
   "execution_count": 41,
   "metadata": {},
   "outputs": [],
   "source": [
    "pictures = pictures/255"
   ]
  },
  {
   "cell_type": "code",
   "execution_count": 42,
   "metadata": {},
   "outputs": [],
   "source": [
    "model= Sequential()\n",
    "\n",
    "model.add(Conv2D(64,(3,3),activation= 'relu'))\n",
    "model.add(MaxPooling2D((2,2)))\n",
    "\n",
    "model.add(Conv2D(64,(3,3),activation= 'relu'))\n",
    "model.add(MaxPooling2D((2,2)))\n",
    "\n",
    "model.add(Flatten())\n",
    "\n",
    "model.add(Dense(720,input_shape = pictures.shape[1:],activation= 'relu'))\n",
    "model.add(Dense(128,activation= 'relu'))\n",
    "model.add(Dense(2,activation= 'softmax'))\n",
    "\n"
   ]
  },
  {
   "cell_type": "markdown",
   "metadata": {},
   "source": [
    "Loss function and optimizer help use to change the weight and bias in the back propagtion"
   ]
  },
  {
   "cell_type": "code",
   "execution_count": 43,
   "metadata": {},
   "outputs": [],
   "source": [
    "model.compile(optimizer = 'adam',loss ='sparse_categorical_crossentropy',metrics=['accuracy'])"
   ]
  },
  {
   "cell_type": "code",
   "execution_count": 44,
   "metadata": {},
   "outputs": [
    {
     "name": "stdout",
     "output_type": "stream",
     "text": [
      "Epoch 1/5\n",
      "702/702 [==============================] - 260s 365ms/step - loss: 0.6481 - accuracy: 0.6344 - val_loss: 0.6283 - val_accuracy: 0.6224\n",
      "Epoch 2/5\n",
      "702/702 [==============================] - 249s 354ms/step - loss: 0.5252 - accuracy: 0.7384 - val_loss: 0.5212 - val_accuracy: 0.7475\n",
      "Epoch 3/5\n",
      "702/702 [==============================] - 247s 352ms/step - loss: 0.3974 - accuracy: 0.8174 - val_loss: 0.5127 - val_accuracy: 0.7615\n",
      "Epoch 4/5\n",
      "702/702 [==============================] - 246s 351ms/step - loss: 0.2161 - accuracy: 0.9115 - val_loss: 0.7441 - val_accuracy: 0.7647\n",
      "Epoch 5/5\n",
      "702/702 [==============================] - 246s 350ms/step - loss: 0.0778 - accuracy: 0.9715 - val_loss: 1.1058 - val_accuracy: 0.7619\n"
     ]
    },
    {
     "data": {
      "text/plain": [
       "<keras.callbacks.History at 0x1a5e3308248>"
      ]
     },
     "execution_count": 44,
     "metadata": {},
     "output_type": "execute_result"
    }
   ],
   "source": [
    "model.fit(pictures,labels,epochs = 5,validation_split=0.1)"
   ]
  },
  {
   "cell_type": "code",
   "execution_count": 45,
   "metadata": {},
   "outputs": [
    {
     "name": "stdout",
     "output_type": "stream",
     "text": [
      "INFO:tensorflow:Assets written to: Cat_vs_Dogs.model\\assets\n"
     ]
    }
   ],
   "source": [
    "model.save('Cat_vs_Dogs.model')\n"
   ]
  },
  {
   "cell_type": "code",
   "execution_count": null,
   "metadata": {},
   "outputs": [],
   "source": []
  }
 ],
 "metadata": {
  "kernelspec": {
   "display_name": "Python 3",
   "language": "python",
   "name": "python3"
  },
  "language_info": {
   "codemirror_mode": {
    "name": "ipython",
    "version": 3
   },
   "file_extension": ".py",
   "mimetype": "text/x-python",
   "name": "python",
   "nbconvert_exporter": "python",
   "pygments_lexer": "ipython3",
   "version": "3.7.6"
  }
 },
 "nbformat": 4,
 "nbformat_minor": 4
}
